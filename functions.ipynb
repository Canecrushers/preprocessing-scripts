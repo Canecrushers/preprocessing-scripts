{
 "cells": [
  {
   "cell_type": "code",
   "execution_count": 1,
   "metadata": {
    "ExecuteTime": {
     "end_time": "2019-11-18T02:48:12.360834Z",
     "start_time": "2019-11-18T02:48:11.729554Z"
    }
   },
   "outputs": [],
   "source": [
    "from PIL import Image\n",
    "import os\n",
    "import matplotlib.pyplot as plt\n",
    "import pandas as pd\n",
    "import glob\n",
    "import numpy as np"
   ]
  },
  {
   "cell_type": "code",
   "execution_count": 2,
   "metadata": {
    "ExecuteTime": {
     "end_time": "2019-11-18T02:48:12.367992Z",
     "start_time": "2019-11-18T02:48:12.361833Z"
    }
   },
   "outputs": [],
   "source": [
    "def get_mask_path(tile_x, tile_y, mask_type):\n",
    "    path = f\"./data/sentinel-2a-tile-{tile_x}x-{tile_y}y/masks/{mask_type}-mask.png\"\n",
    "    return path"
   ]
  },
  {
   "cell_type": "code",
   "execution_count": 3,
   "metadata": {
    "ExecuteTime": {
     "end_time": "2019-11-18T02:48:12.381778Z",
     "start_time": "2019-11-18T02:48:12.369811Z"
    }
   },
   "outputs": [],
   "source": [
    "def load_image(tile_path):\n",
    "    img = Image.open(tile_path)\n",
    "    return img"
   ]
  },
  {
   "cell_type": "code",
   "execution_count": 4,
   "metadata": {
    "ExecuteTime": {
     "end_time": "2019-11-18T02:48:12.390755Z",
     "start_time": "2019-11-18T02:48:12.382777Z"
    }
   },
   "outputs": [],
   "source": [
    "def get_tile_pixels(img):\n",
    "    pixels = img.load()\n",
    "    return pixels"
   ]
  },
  {
   "cell_type": "code",
   "execution_count": 5,
   "metadata": {
    "ExecuteTime": {
     "end_time": "2019-11-18T02:48:12.398740Z",
     "start_time": "2019-11-18T02:48:12.391752Z"
    }
   },
   "outputs": [],
   "source": [
    "def plot_image(img):\n",
    "    plt.imshow(img)"
   ]
  },
  {
   "cell_type": "code",
   "execution_count": 6,
   "metadata": {
    "ExecuteTime": {
     "end_time": "2019-11-18T02:48:12.409704Z",
     "start_time": "2019-11-18T02:48:12.399732Z"
    }
   },
   "outputs": [],
   "source": [
    "def is_in_mask(mask_pixels, pixel_x, pixel_y):\n",
    "    if mask_pixels[pixel_y, pixel_x] == (0, 0, 0, 255):\n",
    "        return True\n",
    "    else:\n",
    "        return False"
   ]
  },
  {
   "cell_type": "code",
   "execution_count": 7,
   "metadata": {
    "ExecuteTime": {
     "end_time": "2019-11-18T02:48:12.419677Z",
     "start_time": "2019-11-18T02:48:12.410702Z"
    }
   },
   "outputs": [],
   "source": [
    "def pixels_in_mask(tile_x, tile_y,mask_type):\n",
    "    pixel_list = []\n",
    "    \n",
    "    mask_path = get_mask_path(tile_x, tile_y, mask_type)    \n",
    "    mask_img = load_image(mask_path)    \n",
    "    mask_pix = get_tile_pixels(mask_img)    \n",
    "    mask_img_size = mask_img.size\n",
    "    \n",
    "    for pixel_x in range(0,mask_img.size[0]):\n",
    "        for pixel_y in range(0,mask_img.size[1]):\n",
    "            in_mask = is_in_mask(mask_pix, pixel_x, pixel_y)\n",
    "            if in_mask:\n",
    "                pixel_list.append([pixel_x,pixel_y])\n",
    "    return pixel_list"
   ]
  },
  {
   "cell_type": "code",
   "execution_count": 8,
   "metadata": {
    "ExecuteTime": {
     "end_time": "2019-11-18T02:48:12.428653Z",
     "start_time": "2019-11-18T02:48:12.421673Z"
    }
   },
   "outputs": [],
   "source": [
    "def get_timeseries_image_paths(tile_x, tile_y, band):\n",
    "    path = f\"./data/sentinel-2a-tile-{tile_x}x-{tile_y}y/timeseries/{tile_x}-{tile_y}-{band}*.png\"\n",
    "    images = glob.glob(path)\n",
    "    return images"
   ]
  },
  {
   "cell_type": "code",
   "execution_count": 9,
   "metadata": {
    "ExecuteTime": {
     "end_time": "2019-11-18T02:48:12.439623Z",
     "start_time": "2019-11-18T02:48:12.429652Z"
    }
   },
   "outputs": [],
   "source": [
    "def get_dates(timeseries_paths_list,band):\n",
    "    dates = []\n",
    "    for path in paths:\n",
    "        dates.append((path.split(sep = band + \"-\")[1]).split(sep = \".\")[0])\n",
    "    return dates"
   ]
  },
  {
   "cell_type": "code",
   "execution_count": 10,
   "metadata": {
    "ExecuteTime": {
     "end_time": "2019-11-18T02:48:12.451591Z",
     "start_time": "2019-11-18T02:48:12.440622Z"
    }
   },
   "outputs": [],
   "source": [
    "def get_band_df(pixel_df,image_paths):\n",
    "    for path_index in range(0,len(image_paths)):\n",
    "        sugar_df = pixel_df.query(\"sugarcane==True\").drop(columns='sugarcane')\n",
    "        for band in bands:\n",
    "            path = image_paths.loc[path_index,band]\n",
    "            im = load_image(path)\n",
    "            pix = get_tile_pixels(im)\n",
    "            for index in sugar_df.index:\n",
    "                x = sugar_df.loc[index,'x']\n",
    "                y = sugar_df.loc[index,'y']\n",
    "                if band == 'TCI':\n",
    "                    rgb = pix[y,x]\n",
    "                    sugar_df.loc[index,'r'] = rgb[0]\n",
    "                    sugar_df.loc[index,'g'] = rgb[1]\n",
    "                    sugar_df.loc[index,'b'] = rgb[2]\n",
    "                else:\n",
    "                    sugar_df.loc[index,band] = pix[y,x]\n",
    "        sugar_df['NDVI'] = (sugar_df['B08'] - sugar_df['B04'])/(sugar_df['B08'] + sugar_df['B04'])\n",
    "        sugar_df['NDII'] = (sugar_df['B08'] - sugar_df['B11'])/(sugar_df['B08'] + sugar_df['B11'])\n",
    "        sugar_df.to_csv(str(\"./flat files/\" + image_paths.loc[path_index,\"date\"] + \".csv\"))"
   ]
  },
  {
   "cell_type": "code",
   "execution_count": 11,
   "metadata": {
    "ExecuteTime": {
     "end_time": "2019-11-18T02:48:12.469544Z",
     "start_time": "2019-11-18T02:48:12.453588Z"
    }
   },
   "outputs": [],
   "source": [
    "def get_N_and_water(flat_file_path,feature_file_path):\n",
    "    timeseries_flat_files = os.listdir(flat_file_path)\n",
    "    for file in timeseries_flat_files:\n",
    "        data = pd.read_csv(str(flat_file_path + \"/\" + file))\n",
    "        data['veg_index'] = (data['B12'] - data['B08'])/(data['B12'] + data['B08'])\n",
    "        data['leaf_water_content'] = (data['NDII'] - min(data['NDII']))/(max(data['NDII']) - min(data['NDII']))\n",
    "        for index in data.index:\n",
    "            if data.loc[index,'veg_index']<-0.35:\n",
    "                data.loc[index,'harvested'] = False\n",
    "            else:\n",
    "                data.loc[index,'harvested'] = True\n",
    "\n",
    "            if data.loc[index,'harvested']==True:\n",
    "                data.loc[index,'min_N'] = np.nan\n",
    "                data.loc[index,'max_N'] = np.nan\n",
    "                data.loc[index,'leaf_water_content'] = np.nan\n",
    "            elif data.loc[index,'NDVI'] < 0.55:\n",
    "                data.loc[index,'min_N'] = 135\n",
    "                data.loc[index,'max_N'] = 150\n",
    "            elif data.loc[index,'NDVI'] <= 0.6 and data.loc[index,'NDVI'] > 0.55:\n",
    "                data.loc[index,'min_N'] = 120\n",
    "                data.loc[index,'max_N'] = 135\n",
    "            elif data.loc[index,'NDVI'] <= 0.65 and data.loc[index,'NDVI'] > 0.6:\n",
    "                data.loc[index,'min_N'] = 105\n",
    "                data.loc[index,'max_N'] = 120\n",
    "            elif data.loc[index,'NDVI'] <= 0.75 and data.loc[index,'NDVI'] > 0.65:\n",
    "                data.loc[index,'min_N'] = 90\n",
    "                data.loc[index,'max_N'] = 105\n",
    "            elif data.loc[index,'NDVI'] <= 0.85 and data.loc[index,'NDVI'] > 0.75:\n",
    "                data.loc[index,'min_N'] = 75\n",
    "                data.loc[index,'max_N'] = 90\n",
    "            else:\n",
    "                data.loc[index,'min_N'] = 60\n",
    "                data.loc[index,'max_N'] = 75\n",
    "\n",
    "        data = data[['x','y','harvested','min_N','max_N','leaf_water_content']]\n",
    "        data.to_csv(feature_file_path + '/' + file)"
   ]
  }
 ],
 "metadata": {
  "kernelspec": {
   "display_name": "Python 3",
   "language": "python",
   "name": "python3"
  },
  "language_info": {
   "codemirror_mode": {
    "name": "ipython",
    "version": 3
   },
   "file_extension": ".py",
   "mimetype": "text/x-python",
   "name": "python",
   "nbconvert_exporter": "python",
   "pygments_lexer": "ipython3",
   "version": "3.7.3"
  }
 },
 "nbformat": 4,
 "nbformat_minor": 2
}
