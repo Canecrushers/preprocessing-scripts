{
 "cells": [
  {
   "cell_type": "code",
   "execution_count": 6,
   "metadata": {
    "ExecuteTime": {
     "end_time": "2019-11-18T02:51:40.136472Z",
     "start_time": "2019-11-18T02:51:40.107557Z"
    }
   },
   "outputs": [],
   "source": [
    "%run functions.ipynb"
   ]
  },
  {
   "cell_type": "code",
   "execution_count": 8,
   "metadata": {
    "ExecuteTime": {
     "end_time": "2019-11-19T18:15:53.009840Z",
     "start_time": "2019-11-18T03:50:44.502375Z"
    }
   },
   "outputs": [],
   "source": [
    "get_N_and_water('./flat files','./feature files')"
   ]
  },
  {
   "cell_type": "code",
   "execution_count": 26,
   "metadata": {
    "ExecuteTime": {
     "end_time": "2019-11-19T23:09:21.663694Z",
     "start_time": "2019-11-19T23:09:09.092203Z"
    }
   },
   "outputs": [],
   "source": [
    "features = pd.read_csv(\"./shiny app/data/combined.csv\")"
   ]
  },
  {
   "cell_type": "code",
   "execution_count": 27,
   "metadata": {
    "ExecuteTime": {
     "end_time": "2019-11-19T23:09:25.711641Z",
     "start_time": "2019-11-19T23:09:21.667653Z"
    }
   },
   "outputs": [],
   "source": [
    "features = features.sort_values(by = [\"x\",\"y\"])"
   ]
  },
  {
   "cell_type": "code",
   "execution_count": null,
   "metadata": {
    "ExecuteTime": {
     "start_time": "2019-11-19T23:10:17.164Z"
    }
   },
   "outputs": [],
   "source": [
    "for index in features.index:\n",
    "    if features.loc[index,\"date\"] not in ['2016-12-22','2019-08-09']:\n",
    "        if features.loc[index,\"harvested\"] != features.loc[index-1,\"harvested\"] and features.loc[index,\"harvested\"] != features.loc[index+1,\"harvested\"]:\n",
    "            features.loc[index,\"harvested\"] = features.loc[index-1,\"harvested\"]\n",
    "            features.loc[index,\"min_N\"] = features.loc[index-1,\"min_N\"]\n",
    "            features.loc[index,\"max_N\"] = features.loc[index-1,\"max_N\"]\n",
    "            features.loc[index,\"leaf_water_content\"] = features.loc[index-1,\"leaf_water_content\"]\n",
    "    elif features.loc[index,\"date\"] == '2016-12-22':\n",
    "        if features.loc[index,\"harvested\"] != features.loc[index+1,\"harvested\"]:\n",
    "            features.loc[index,\"harvested\"] = features.loc[index+1,\"harvested\"]\n",
    "            features.loc[index,\"min_N\"] = features.loc[index+1,\"min_N\"]\n",
    "            features.loc[index,\"max_N\"] = features.loc[index+1,\"max_N\"]\n",
    "            features.loc[index,\"leaf_water_content\"] = features.loc[index+1,\"leaf_water_content\"]\n",
    "    else:\n",
    "        if features.loc[index,\"harvested\"] != features.loc[index-1,\"harvested\"]:\n",
    "            features.loc[index,\"harvested\"] = features.loc[index-1,\"harvested\"]\n",
    "            features.loc[index,\"min_N\"] = features.loc[index-1,\"min_N\"]\n",
    "            features.loc[index,\"max_N\"] = features.loc[index-1,\"max_N\"]\n",
    "            features.loc[index,\"leaf_water_content\"] = features.loc[index-1,\"leaf_water_content\"]"
   ]
  },
  {
   "cell_type": "code",
   "execution_count": null,
   "metadata": {
    "ExecuteTime": {
     "start_time": "2019-11-19T23:10:21.493Z"
    }
   },
   "outputs": [],
   "source": [
    "features.to_csv(\"./shiny app/data/combined.csv\")"
   ]
  }
 ],
 "metadata": {
  "kernelspec": {
   "display_name": "Python 3",
   "language": "python",
   "name": "python3"
  },
  "language_info": {
   "codemirror_mode": {
    "name": "ipython",
    "version": 3
   },
   "file_extension": ".py",
   "mimetype": "text/x-python",
   "name": "python",
   "nbconvert_exporter": "python",
   "pygments_lexer": "ipython3",
   "version": "3.7.3"
  }
 },
 "nbformat": 4,
 "nbformat_minor": 2
}
